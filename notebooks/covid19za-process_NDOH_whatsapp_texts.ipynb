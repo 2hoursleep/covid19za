{
 "cells": [
  {
   "cell_type": "markdown",
   "metadata": {},
   "source": [
    "# <center> Process WhatsApp messages from NDOH"
   ]
  },
  {
   "cell_type": "markdown",
   "metadata": {},
   "source": [
    "## Read in WhatsApp messages"
   ]
  },
  {
   "cell_type": "markdown",
   "metadata": {},
   "source": [
    "- Currently saved as **`.txt`** files in **```data/doh_whatsapp```**"
   ]
  },
  {
   "cell_type": "code",
   "execution_count": 1,
   "metadata": {},
   "outputs": [],
   "source": [
    "# TODO : find out how these files are saved/ stored ? - Is it manual ?"
   ]
  },
  {
   "cell_type": "markdown",
   "metadata": {},
   "source": [
    "## Import Libraries"
   ]
  },
  {
   "cell_type": "code",
   "execution_count": 747,
   "metadata": {},
   "outputs": [],
   "source": [
    "import pandas as pd\n",
    "from pathlib import Path\n",
    "import regex\n",
    "import string"
   ]
  },
  {
   "cell_type": "code",
   "execution_count": 622,
   "metadata": {},
   "outputs": [],
   "source": [
    "# read data\n",
    "data_path = Path(\"../data/doh_whatsapp/\")\n",
    "data_files = list(data_path.glob(\"*.txt\"))"
   ]
  },
  {
   "cell_type": "code",
   "execution_count": 624,
   "metadata": {},
   "outputs": [],
   "source": [
    "data_files =sorted(data_files)    # sort data , easier to debug - more intuitive "
   ]
  },
  {
   "cell_type": "markdown",
   "metadata": {},
   "source": [
    "## Create Regex Queries"
   ]
  },
  {
   "cell_type": "code",
   "execution_count": 699,
   "metadata": {},
   "outputs": [],
   "source": [
    "kzn_query = r'(kwazulu[\\s-–]*natal|kzn)[\\s:,]+(\\d{1,5})'    # use dash and or hyphen (different ascii representations)\n",
    "kzn_query_1 = r'(kwazulu[\\s-–]*natal|kzn)[ :,]*(\\d{1,5})'    # use an actual space instead of \\s because \\s includes \\r and \\n\n",
    "kzn_query_2 = r'(\\d{1,5}[ :,]*kwazulu[\\s-–]*natal|\\d{1,5}kzn)'\n",
    "\n",
    "gp_query = r'(gauteng)[\\s:,]*(\\d{1,5})'\n",
    "gp_query_1 = r'(gauteng)[ :,]*(\\d{1,5})'\n",
    "gp_query_2 = r'(\\d{1,5})[ :,]*(gauteng)'\n",
    "\n",
    "wp_query = r'(Western Cape)[\\s:,]*(\\d{1,5})'\n",
    "wp_query_1 = r'(Western Cape)[ :,]*(\\d{1,5})'\n",
    "wp_query_2 = r'(\\d{1,5})[ :,]+(Western Cape)'\n",
    "\n",
    "fs_query = r'(Free State)[\\s:,]*(\\d{1,5})'\n",
    "fs_query_1 = r'(Free State)[ :,]*(\\d{1,5})'\n",
    "fs_query_2 = r'(\\d{1,5})[ :,]*(Free State)'\n",
    "\n",
    "nw_query = r'(North West)[\\s:,]*(\\d{1,5})'\n",
    "nw_query_1 = r'(North West)[ :,]*(\\d{1,5})'\n",
    "nw_query_2 = r'(\\d{1,5})[ :,]*(North West)'\n",
    "\n",
    "mp_query = r'(Mpumalanga)[\\s:,]*(\\d{1,5})'\n",
    "mp_query_1 = r'(Mpumalanga){s<=2:[a-z]}[ :,]*(\\d{1,5})'    # to save against misspellings we allow at most 2 substitutions from [a-z]\n",
    "mp_query_2 = r'(\\d{1,5})[ :,]*(Mpumalanga){s<=2:[a-z]}'\n",
    "\n",
    "limp_query = r'(Limpopo)[\\s:,]*(\\d{1,5})'\n",
    "limp_query_1 = r'(Limpopo)[ :,]*(\\d{1,5})'\n",
    "limp_query_2 = r'(\\d{1,5})[ :,]*(Limpopo)'\n",
    "\n",
    "ec_query = r'(Eastern Cape)[\\s:,]*(\\d{1,5})'\n",
    "ec_query_1 = r'(Eastern Cape)[ :,]*(\\d{1,5})'\n",
    "ec_query_2 = r'(\\d{1,5})[ :,]*(Eastern Cape)'\n",
    "\n",
    "nc_query = r'(Northern Cape)[\\s:,]*(\\d{1,5})'\n",
    "nc_query_1 = r'(Northern Cape)[ :,]*(\\d{1,5})'\n",
    "nc_query_2 = r'(\\d{1,5})[ :,]*(Northern Cape)'\n",
    "\n",
    "unk_query = r'(UNALLOCATED|Unknown)[\\s:,]*(\\d{1,5})'\n",
    "unk_query_1 = r'(UNALLOCATED|Unknown)[ :,]*(\\d{1,5})'\n",
    "unk_query_2 = r'(\\d{1,5})[ :,]*(UNALLOCATED|Unknown)'"
   ]
  },
  {
   "cell_type": "code",
   "execution_count": 908,
   "metadata": {},
   "outputs": [
    {
     "name": "stdout",
     "output_type": "stream",
     "text": [
      "[ 1 ] 2020-03-16\n",
      "[ 2 ] 2020-03-17\n",
      "[ 3 ] 2020-03-20\n",
      "[ 4 ] 2020-03-23\n",
      "[ 5 ] 2020-03-24\n",
      "[ 6 ] 2020-03-25\n",
      "[ 7 ] 2020-03-26\n",
      "[ 8 ] 2020-03-27\n",
      "[ 9 ] 2020-03-28\n",
      "[ 10 ] 2020-03-29\n",
      "[ 11 ] 2020-03-30\n",
      "[ 12 ] 2020-03-31\n",
      "[ 13 ] 2020-04-02\n",
      "[ 14 ] 2020-04-03\n",
      "[ 15 ] 2020-04-04\n",
      "[ 16 ] 2020-04-05\n",
      "[ 17 ] 2020-04-08\n"
     ]
    }
   ],
   "source": [
    "# TODO : limit search to just the number breakdown portion of message\n",
    "query_dict = {'KZN' : [kzn_query_1, kzn_query_2],\n",
    "              'Gauteng' : [gp_query_1, gp_query_2],\n",
    "              'Western Cape' : [wp_query_1, wp_query_2], \n",
    "              'Free State' : [fs_query_1, fs_query_2],\n",
    "              'North West' : [nw_query_1, nw_query_2], \n",
    "              'Mpumalanga' : [mp_query_1, mp_query_2],\n",
    "              'Limpopo' : [limp_query_1, limp_query_2],\n",
    "              'Eastern Cape' : [ec_query_1, ec_query_2],\n",
    "              'Northern Cape' : [nc_query_1, nc_query_2],\n",
    "              'Unknown' : [unk_query_1, unk_query_2]}\n",
    "\n",
    "# TODO : make this loopy code more effecient\n",
    "dates = []\n",
    "provinces = []\n",
    "counts = []\n",
    "\n",
    "for i, data_file in enumerate(data_files):\n",
    "    date = data_file.stem.split(\"-whatsapp-cases\")[0]    # we assume that the naming convention for the stored text file is consistent\n",
    "    print('[',i+1,']', date) \n",
    "         \n",
    "    match_counter = 0\n",
    "    \n",
    "    with open(data_file,'r') as reader :\n",
    "        data = reader.readlines()\n",
    "        \n",
    "    data_string = \" \".join([d for d in data])    # convert data to a single string, could maybe use re.MULTILINE instead ?\n",
    "        \n",
    "    for prov, prov_query in query_dict.items():\n",
    "        for query in prov_query:\n",
    "            match = regex.search(query, data_string, re.IGNORECASE)\n",
    "            if match:\n",
    "                m = match.group()\n",
    "                count = \"\".join([s for s in m if s.isdigit()])   # strip infection count from string\n",
    "                \n",
    "                counts.append(int(count))\n",
    "                provinces.append(prov)\n",
    "                dates.append(date1)\n",
    "                \n",
    "                match_counter+=1\n",
    "\n",
    "# \n"
   ]
  },
  {
   "cell_type": "code",
   "execution_count": 909,
   "metadata": {},
   "outputs": [],
   "source": [
    "df = pd.DataFrame({'Date':dates,\n",
    "                   'Province':provinces,\n",
    "                   'Infection Count':counts})"
   ]
  },
  {
   "cell_type": "code",
   "execution_count": 895,
   "metadata": {},
   "outputs": [],
   "source": [
    "by_date = df.groupby('Date')\n",
    "by_province = df.groupby('Province')"
   ]
  },
  {
   "cell_type": "code",
   "execution_count": 896,
   "metadata": {},
   "outputs": [
    {
     "data": {
      "text/html": [
       "<div>\n",
       "<style scoped>\n",
       "    .dataframe tbody tr th:only-of-type {\n",
       "        vertical-align: middle;\n",
       "    }\n",
       "\n",
       "    .dataframe tbody tr th {\n",
       "        vertical-align: top;\n",
       "    }\n",
       "\n",
       "    .dataframe thead th {\n",
       "        text-align: right;\n",
       "    }\n",
       "</style>\n",
       "<table border=\"1\" class=\"dataframe\">\n",
       "  <thead>\n",
       "    <tr style=\"text-align: right;\">\n",
       "      <th></th>\n",
       "      <th>Date</th>\n",
       "      <th>Province</th>\n",
       "      <th>Infection Count</th>\n",
       "    </tr>\n",
       "  </thead>\n",
       "  <tbody>\n",
       "    <tr>\n",
       "      <th>0</th>\n",
       "      <td>2020-03-16</td>\n",
       "      <td>KZN</td>\n",
       "      <td>12</td>\n",
       "    </tr>\n",
       "    <tr>\n",
       "      <th>5</th>\n",
       "      <td>2020-03-17</td>\n",
       "      <td>KZN</td>\n",
       "      <td>16</td>\n",
       "    </tr>\n",
       "    <tr>\n",
       "      <th>10</th>\n",
       "      <td>2020-03-20</td>\n",
       "      <td>KZN</td>\n",
       "      <td>23</td>\n",
       "    </tr>\n",
       "    <tr>\n",
       "      <th>16</th>\n",
       "      <td>2020-03-23</td>\n",
       "      <td>KZN</td>\n",
       "      <td>60</td>\n",
       "    </tr>\n",
       "    <tr>\n",
       "      <th>26</th>\n",
       "      <td>2020-03-24</td>\n",
       "      <td>KZN</td>\n",
       "      <td>80</td>\n",
       "    </tr>\n",
       "    <tr>\n",
       "      <th>35</th>\n",
       "      <td>2020-03-25</td>\n",
       "      <td>KZN</td>\n",
       "      <td>91</td>\n",
       "    </tr>\n",
       "    <tr>\n",
       "      <th>45</th>\n",
       "      <td>2020-03-26</td>\n",
       "      <td>KZN</td>\n",
       "      <td>134</td>\n",
       "    </tr>\n",
       "    <tr>\n",
       "      <th>55</th>\n",
       "      <td>2020-03-27</td>\n",
       "      <td>KZN</td>\n",
       "      <td>134</td>\n",
       "    </tr>\n",
       "    <tr>\n",
       "      <th>65</th>\n",
       "      <td>2020-03-28</td>\n",
       "      <td>KZN</td>\n",
       "      <td>156</td>\n",
       "    </tr>\n",
       "    <tr>\n",
       "      <th>75</th>\n",
       "      <td>2020-03-29</td>\n",
       "      <td>KZN</td>\n",
       "      <td>167</td>\n",
       "    </tr>\n",
       "    <tr>\n",
       "      <th>85</th>\n",
       "      <td>2020-03-30</td>\n",
       "      <td>KZN</td>\n",
       "      <td>167</td>\n",
       "    </tr>\n",
       "    <tr>\n",
       "      <th>95</th>\n",
       "      <td>2020-03-31</td>\n",
       "      <td>KZN</td>\n",
       "      <td>179</td>\n",
       "    </tr>\n",
       "    <tr>\n",
       "      <th>105</th>\n",
       "      <td>2020-04-02</td>\n",
       "      <td>KZN</td>\n",
       "      <td>206</td>\n",
       "    </tr>\n",
       "    <tr>\n",
       "      <th>115</th>\n",
       "      <td>2020-04-03</td>\n",
       "      <td>KZN</td>\n",
       "      <td>215</td>\n",
       "    </tr>\n",
       "    <tr>\n",
       "      <th>125</th>\n",
       "      <td>2020-04-04</td>\n",
       "      <td>KZN</td>\n",
       "      <td>232</td>\n",
       "    </tr>\n",
       "    <tr>\n",
       "      <th>135</th>\n",
       "      <td>2020-04-05</td>\n",
       "      <td>KZN</td>\n",
       "      <td>246</td>\n",
       "    </tr>\n",
       "    <tr>\n",
       "      <th>145</th>\n",
       "      <td>2020-04-08</td>\n",
       "      <td>KZN</td>\n",
       "      <td>354</td>\n",
       "    </tr>\n",
       "  </tbody>\n",
       "</table>\n",
       "</div>"
      ],
      "text/plain": [
       "           Date Province  Infection Count\n",
       "0    2020-03-16      KZN               12\n",
       "5    2020-03-17      KZN               16\n",
       "10   2020-03-20      KZN               23\n",
       "16   2020-03-23      KZN               60\n",
       "26   2020-03-24      KZN               80\n",
       "35   2020-03-25      KZN               91\n",
       "45   2020-03-26      KZN              134\n",
       "55   2020-03-27      KZN              134\n",
       "65   2020-03-28      KZN              156\n",
       "75   2020-03-29      KZN              167\n",
       "85   2020-03-30      KZN              167\n",
       "95   2020-03-31      KZN              179\n",
       "105  2020-04-02      KZN              206\n",
       "115  2020-04-03      KZN              215\n",
       "125  2020-04-04      KZN              232\n",
       "135  2020-04-05      KZN              246\n",
       "145  2020-04-08      KZN              354"
      ]
     },
     "execution_count": 896,
     "metadata": {},
     "output_type": "execute_result"
    }
   ],
   "source": [
    "by_province.get_group('KZN')"
   ]
  },
  {
   "cell_type": "code",
   "execution_count": null,
   "metadata": {},
   "outputs": [],
   "source": []
  },
  {
   "cell_type": "code",
   "execution_count": 884,
   "metadata": {},
   "outputs": [],
   "source": [
    "# test all queries combined\n",
    "# query_list = [{'kzn' : kzn_query_1, kzn_query_2},\n",
    "#               {'gp' : gp_query_1, gp_query_2},\n",
    "#               {'wp' : wp_query_1, wp_query_2}, \n",
    "#               {'fs' : fs_query_1, fs_query_2},\n",
    "#               {'nw' : nw_query_1, nw_query_2}, \n",
    "#               {'mp' : mp_query_1, mp_query_2},\n",
    "#               {'limp' : limp_query_1, limp_query_2},\n",
    "#               {'ec' : ec_query_1, ec_query_2},\n",
    "#               {'nc' : nc_query_1, nc_query_2},\n",
    "#               {'unk' : unk_query_1, unk_query_2}]\n",
    "\n",
    "# # loop over all files\n",
    "# # TODO : limit search to just the number breakdown portion of message\n",
    "\n",
    "# dates = []\n",
    "# provinces = []\n",
    "# counts = []\n",
    "\n",
    "# for i, data_file in enumerate(data_files):\n",
    "#     date1 = data_file.stem.split(\"-whatsapp-cases\")[0]    # we assume that the naming convention for the stored text file is consistent\n",
    "#     print('[',i+1,']', date1) \n",
    "         \n",
    "#     match_counter = 0\n",
    "    \n",
    "#     with open(data_file,'r') as reader :\n",
    "#         data = reader.readlines()\n",
    "        \n",
    "#     data_string = \" \".join([d for d in data])    # convert data to a single string, could maybe use re.MULTILINE instead ?\n",
    "    \n",
    "#     for i,q in enumerate(query_list):\n",
    "#         match = regex.search(q, data_string, re.IGNORECASE)\n",
    "#         if match:\n",
    "#             m = match.group()\n",
    "# #             print(f\"query {i+1} of  {len(query_list)} : {m}\")\n",
    "#             match_counter+=1\n",
    "       \n",
    "#             m = m.replace(\":\",\" \").split()\n",
    "            \n",
    "#             counts.append([int(s) for s in m if s.isdigit()][0])\n",
    "#             provs.append(\" \".join([s for s in m if not s.isdigit()]))\n",
    "#             dates.append(date1)\n",
    "# #             proc_data.append((date1,prov, counts[0]))\n",
    "    \n",
    "# #         else:\n",
    "# #             print(f\"no match for query {i+1} of {len(query_list)} \")\n",
    "            \n",
    "# #     print(f\"{match_counter} matches found\")\n",
    "# #     print(\"--------\"*10) \n",
    "    "
   ]
  },
  {
   "cell_type": "code",
   "execution_count": 882,
   "metadata": {},
   "outputs": [],
   "source": [
    "# a=list(zip(dates,provs,counts))\n",
    "# for t in a:\n",
    "#     print(t[1])"
   ]
  },
  {
   "cell_type": "code",
   "execution_count": 883,
   "metadata": {},
   "outputs": [],
   "source": [
    "# ## get date for each file\n",
    "# # -whatsapp-cases\n",
    "# dates = [data_file.stem.split(\"-whatsapp-cases\")[0] for i,data_file in enumerate(data_files)]\n",
    "# dates\n"
   ]
  },
  {
   "cell_type": "code",
   "execution_count": 632,
   "metadata": {},
   "outputs": [],
   "source": [
    "# heading = data[0]\n",
    "# date = data[1]\n",
    "# summary = data[2:8]\n",
    "# stats_breakdown = data[9:20]\n",
    "# end_text = data[21:]"
   ]
  },
  {
   "cell_type": "code",
   "execution_count": 633,
   "metadata": {},
   "outputs": [],
   "source": [
    "# print(f\"heading : {heading}\")\n",
    "# print(\"---\"*25)\n",
    "\n",
    "# print(f\"date : {date}\")\n",
    "# print(\"---\"*25)\n",
    "\n",
    "# print(f\"summary : {[print(s) for s in summary]}\")\n",
    "# print(\"---\"*25)\n",
    "\n",
    "# print(f\"stats_breakdown : {[print(stats) for stats in stats_breakdown]}\")\n",
    "# print(\"---\"*25)\n",
    "\n",
    "# print(f\"end_text : {end_text}\")\n",
    "# print(\"---\"*25)\n"
   ]
  },
  {
   "cell_type": "code",
   "execution_count": 634,
   "metadata": {},
   "outputs": [],
   "source": [
    "# date.strip().split('-')"
   ]
  },
  {
   "cell_type": "code",
   "execution_count": null,
   "metadata": {},
   "outputs": [],
   "source": []
  }
 ],
 "metadata": {
  "kernelspec": {
   "display_name": "Python 3",
   "language": "python",
   "name": "python3"
  },
  "language_info": {
   "codemirror_mode": {
    "name": "ipython",
    "version": 3
   },
   "file_extension": ".py",
   "mimetype": "text/x-python",
   "name": "python",
   "nbconvert_exporter": "python",
   "pygments_lexer": "ipython3",
   "version": "3.7.3"
  }
 },
 "nbformat": 4,
 "nbformat_minor": 2
}
